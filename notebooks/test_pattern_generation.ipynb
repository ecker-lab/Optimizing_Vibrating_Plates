{
 "cells": [
  {
   "cell_type": "markdown",
   "metadata": {},
   "source": [
    "# Generating Beading Patterns \n",
    "\n",
    "This notebook implements visualizing procedurally generated beading patterns that are used to train our flow matching model."
   ]
  },
  {
   "cell_type": "code",
   "execution_count": null,
   "metadata": {},
   "outputs": [],
   "source": [
    "import matplotlib.pyplot as plt\n",
    "from plate_optim.pattern_generation import BeadingTransition, draw_high_variation_img\n",
    "from plate_optim.utils.plotting import plot_contraints_violations\n",
    "import matplotlib.pyplot as plt\n",
    "import numpy as np\n",
    "from plate_optim.metrics.manufacturing import calc_beading_ratio,mean_valid_pixels\n",
    "from plate_optim.project_directories import main_dir\n",
    "import os"
   ]
  },
  {
   "cell_type": "markdown",
   "metadata": {},
   "source": [
    "### Draw images used for D50000 dataset"
   ]
  },
  {
   "cell_type": "code",
   "execution_count": null,
   "metadata": {},
   "outputs": [],
   "source": [
    "MIN_LENGTH_SCALE = 0.025"
   ]
  },
  {
   "cell_type": "code",
   "execution_count": null,
   "metadata": {},
   "outputs": [],
   "source": [
    "# Define the beading geometry\n",
    "eng_beading = BeadingTransition(h_bead= 0.02, r_f = 0.0095, r_h = 0.0095, alpha_F= 70*np.pi/180)\n",
    "\n",
    "fig, ax = plt.subplots(4,4,figsize=(12,12))\n",
    "for ax in ax.flat:\n",
    "    img = draw_high_variation_img(dimension= np.array([0.9, 0.6]), \n",
    "                                resolution= np.array([181, 121]), \n",
    "                                height = 0.02, \n",
    "                                n_lines = [1,2], \n",
    "                                n_snakes= [0,1], \n",
    "                                n_rect = [0,2], \n",
    "                                n_arc= [0,2], \n",
    "                                sym = \"partial\",  \n",
    "                                eng_beading = eng_beading,\n",
    "                                max_beading_ratio= 0.5)                                  \n",
    "    #ax.imshow(img, cmap='gray')\n",
    "    plot_contraints_violations(img,ax=ax,min_length_scale=MIN_LENGTH_SCALE)\n",
    "    ax.axis(\"off\")\n",
    "\n",
    "\n",
    "\n",
    "# Cross section of last beading at x = 0.45\n",
    "fig, ax = plt.subplots()\n",
    "ax.plot(np.linspace(0.0, 0.6, 121), img[:,90])\n",
    "ax.axis(\"equal\")\n",
    "plt.tight_layout()\n",
    "\n",
    "plt.show()\n"
   ]
  },
  {
   "cell_type": "markdown",
   "metadata": {},
   "source": [
    "### Draw images with minimum length scale"
   ]
  },
  {
   "cell_type": "code",
   "execution_count": null,
   "metadata": {},
   "outputs": [],
   "source": [
    "# Define the beading geometry\n",
    "eng_beading = BeadingTransition(h_bead= 0.02, r_f = 0.0095, r_h = 0.0095, alpha_F= 70*np.pi/180)\n",
    "\n",
    "fig, ax = plt.subplots(4,4,figsize=(12,12))\n",
    "for ax in ax.flat:\n",
    "    img = draw_high_variation_img(dimension= np.array([0.9, 0.6]), \n",
    "                                resolution= np.array([181, 121]), \n",
    "                                height = 0.02, \n",
    "                                n_lines = [1,2], \n",
    "                                n_snakes= [0,1], \n",
    "                                n_rect = [0,2], \n",
    "                                n_arc= [0,2], \n",
    "                                sym = \"partial\",  \n",
    "                                eng_beading = eng_beading,\n",
    "                                max_beading_ratio= 0.5,\n",
    "                                min_length_scale=MIN_LENGTH_SCALE)                                  \n",
    "    \n",
    "\n",
    "    plot_contraints_violations(img,ax=ax,min_length_scale=MIN_LENGTH_SCALE)\n",
    "    beading_ratio = img.sum()/(img.size*img.max())\n",
    "    ax.set_title(f\"{beading_ratio:.2f}\")\n",
    "\n",
    "# Cross section of last beading at x = 0.45\n",
    "fig, ax = plt.subplots()\n",
    "ax.plot(np.linspace(0.0, 0.6, 121), img[:,90])\n",
    "ax.axis(\"equal\")\n",
    "\n",
    "plt.show()\n",
    "\n"
   ]
  },
  {
   "cell_type": "markdown",
   "metadata": {},
   "source": [
    "### Comparison"
   ]
  },
  {
   "cell_type": "code",
   "execution_count": null,
   "metadata": {},
   "outputs": [],
   "source": [
    "import numpy as np\n",
    "np.array((3,4))*45"
   ]
  },
  {
   "cell_type": "code",
   "execution_count": null,
   "metadata": {},
   "outputs": [],
   "source": [
    "fig, ax = plt.subplots(4,4,figsize=(10.5, 8))\n",
    "import torch\n",
    "for ax in ax.flat:\n",
    "    img = draw_high_variation_img(dimension= np.array([0.9, 0.6]), \n",
    "                                resolution= np.array([181, 121]), \n",
    "                                height = 0.02, \n",
    "                                n_lines = [1,2], \n",
    "                                n_snakes= [0,1], \n",
    "                                n_rect = [0,2], \n",
    "                                n_arc= [0,2], \n",
    "                                sym = \"partial\",  \n",
    "                                eng_beading = eng_beading,\n",
    "                                max_beading_ratio= 0.5,\n",
    "                                min_length_scale=MIN_LENGTH_SCALE)           \n",
    "    \n",
    "    # convert img to torch tensor and interpolate\n",
    "    img = torch.tensor(img)\n",
    "    img = torch.nn.functional.interpolate(img.unsqueeze(0).unsqueeze(0), size=(96, 128), mode='bilinear', align_corners=True).squeeze(0).squeeze(0).numpy()\n",
    "    ax.imshow(img, cmap='gray')\n",
    "    ax.axis('off')     \n",
    "    # print(img.shape)  \n",
    "plt.tight_layout()\n",
    "plt.savefig(os.path.join(main_dir, 'plots', 'dataset_samples.pdf'), bbox_inches='tight', pad_inches=0.0, dpi=300)                \n",
    "    "
   ]
  },
  {
   "cell_type": "code",
   "execution_count": null,
   "metadata": {},
   "outputs": [],
   "source": [
    "imgs_kernel = [\n",
    "    draw_high_variation_img(dimension= np.array([0.9, 0.6]), \n",
    "                                resolution= np.array([181, 121]), \n",
    "                                height = 0.02, \n",
    "                                n_lines = [1,2], \n",
    "                                n_snakes= [0,1], \n",
    "                                n_rect = [0,2], \n",
    "                                n_arc= [0,2], \n",
    "                                sym = \"partial\",  \n",
    "                                eng_beading = eng_beading,\n",
    "                                max_beading_ratio= 0.5,\n",
    "                                min_length_scale=MIN_LENGTH_SCALE)                                  \n",
    "    for i in range(500)\n",
    "]"
   ]
  },
  {
   "cell_type": "code",
   "execution_count": null,
   "metadata": {},
   "outputs": [],
   "source": [
    "imgs_no_kernel = [\n",
    "    draw_high_variation_img(dimension= np.array([0.9, 0.6]), \n",
    "                                resolution= np.array([181, 121]), \n",
    "                                height = 0.02, \n",
    "                                n_lines = [1,2], \n",
    "                                n_snakes= [0,1], \n",
    "                                n_rect = [0,2], \n",
    "                                n_arc= [0,2], \n",
    "                                sym = \"partial\",  \n",
    "                                eng_beading = eng_beading,\n",
    "                                max_beading_ratio= 0.5,\n",
    "                                min_length_scale=0.0)                                  \n",
    "    for i in range(500)\n",
    "]"
   ]
  },
  {
   "cell_type": "code",
   "execution_count": null,
   "metadata": {},
   "outputs": [],
   "source": [
    "fig,ax = plt.subplots(1,1,figsize=(12,12))\n",
    "plot_contraints_violations(imgs_kernel[0],ax=ax)"
   ]
  },
  {
   "cell_type": "code",
   "execution_count": null,
   "metadata": {},
   "outputs": [],
   "source": [
    "imgs_kernel_ratios = [\n",
    "    calc_beading_ratio(img)\n",
    "    for img in imgs_kernel\n",
    "]\n",
    "\n",
    "imgs_no_kernel_ratios = [\n",
    "    calc_beading_ratio(img)\n",
    "    for img in imgs_no_kernel\n",
    "]\n",
    "plt.title(\"Beading ratio\")\n",
    "plt.hist(imgs_kernel_ratios,histtype=\"step\",label=\"with kernel\")\n",
    "plt.hist(imgs_no_kernel_ratios,histtype=\"step\",label=\"no kernel\")\n",
    "plt.legend()\n",
    "plt.show()"
   ]
  },
  {
   "cell_type": "code",
   "execution_count": null,
   "metadata": {},
   "outputs": [],
   "source": [
    "print(\"With kernel:\")\n",
    "\n",
    "print(\"Valid pixels:\",mean_valid_pixels(imgs_kernel,min_beading_size=MIN_LENGTH_SCALE, min_beading_space=MIN_LENGTH_SCALE))\n",
    "\n",
    "\n",
    "print(\"Without kernel:\")\n",
    "\n",
    "print(\"Valid pixels:\",mean_valid_pixels(imgs_no_kernel,min_beading_size=MIN_LENGTH_SCALE,min_beading_space=MIN_LENGTH_SCALE))\n"
   ]
  },
  {
   "cell_type": "code",
   "execution_count": null,
   "metadata": {},
   "outputs": [],
   "source": [
    "imgs_kernel = [\n",
    "    draw_high_variation_img(dimension= np.array([0.9, 0.6]), \n",
    "                                resolution= np.array([181, 121]), \n",
    "                                height = 0.02, \n",
    "                                n_lines = [1,2], \n",
    "                                n_snakes= [0,1], \n",
    "                                n_rect = [0,2], \n",
    "                                n_arc= [0,2], \n",
    "                                sym = \"partial\",  \n",
    "                                eng_beading = eng_beading,\n",
    "                                max_beading_ratio= 0.5,\n",
    "                                min_length_scale=MIN_LENGTH_SCALE)                                  \n",
    "    for i in range(500)\n",
    "]\n",
    "\n",
    "print(np.mean(imgs_kernel), np.std(imgs_kernel))"
   ]
  }
 ],
 "metadata": {
  "kernelspec": {
   "display_name": "Python 3",
   "language": "python",
   "name": "python3"
  },
  "language_info": {
   "codemirror_mode": {
    "name": "ipython",
    "version": 3
   },
   "file_extension": ".py",
   "mimetype": "text/x-python",
   "name": "python",
   "nbconvert_exporter": "python",
   "pygments_lexer": "ipython3",
   "version": "3.11.6"
  }
 },
 "nbformat": 4,
 "nbformat_minor": 2
}
