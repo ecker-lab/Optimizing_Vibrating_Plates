{
 "cells": [
  {
   "cell_type": "markdown",
   "metadata": {},
   "source": [
    "# Notebook to visualize predictions from regression model"
   ]
  },
  {
   "cell_type": "markdown",
   "metadata": {},
   "source": [
    "Given a trained regression model, this notebook implements visualizing predictions on the test dataset. It requires a downloaded test dataset, the trained model and you have to specify the path to the trained model"
   ]
  },
  {
   "cell_type": "code",
   "execution_count": null,
   "metadata": {},
   "outputs": [],
   "source": [
    "import numpy as np\n",
    "import os\n",
    "import matplotlib.pyplot as plt\n",
    "import seaborn as sns\n",
    "from plate_optim.regression.regression_model import get_net, get_mean_from_velocity_field\n",
    "from plate_optim.regression.data import HDF5Dataset, extract_mean_std\n",
    "from plate_optim.regression.train import evaluate\n",
    "from codeutils.config import get_config\n",
    "import torch\n",
    "import seaborn as sns\n",
    "\n",
    "plt.rc('font', size=7)\n",
    "os.chdir(\"../\")\n",
    "\n",
    "config = get_config('configs/regression/50k15.yaml')\n",
    "fields = config.dataset_keys\n",
    "valset = HDF5Dataset(config, config.data_paths_test, normalization=True, test=True)\n",
    "dataloader = torch.utils.data.DataLoader(valset, batch_size=2, shuffle=False)\n",
    "\n",
    "out_mean, out_std, field_mean, field_std = extract_mean_std(dataloader.dataset)\n",
    "out_mean, out_std = out_mean.cuda(), out_std.cuda()\n",
    "field_mean, field_std = field_mean.cuda(), field_std.cuda()"
   ]
  },
  {
   "cell_type": "markdown",
   "metadata": {},
   "source": [
    "In the next cell, change the path to where you saved the model weights."
   ]
  },
  {
   "cell_type": "code",
   "execution_count": null,
   "metadata": {},
   "outputs": [],
   "source": [
    "path = 'path/to/model_weights'\n",
    "net = get_net(conditional=True, len_conditional=3, scaling_factor=32).cuda()\n",
    "checkpoint = torch.load(path)\n",
    "net.load_state_dict(checkpoint['model_state_dict'])\n"
   ]
  },
  {
   "cell_type": "markdown",
   "metadata": {},
   "source": [
    "## Making a prediction for a random validation sample"
   ]
  },
  {
   "cell_type": "code",
   "execution_count": null,
   "metadata": {},
   "outputs": [],
   "source": [
    "i = np.random.randint(len(valset))\n",
    "batch = valset.__getitem__(i, flip_x=False, flip_y=False)\n",
    "image, velocity_field, vel_mean_sq, _condition, frequencies = (batch[field].unsqueeze(0).to('cuda') for field in fields)\n",
    "vel_mean_sq = vel_mean_sq.mul(out_std).add(out_mean[frequencies])\n",
    "frequencies_prediction = torch.linspace(-1.0, 1, 300).cuda().unsqueeze(0)\n",
    "with torch.no_grad():\n",
    "    net.eval()\n",
    "    prediction_field = net(image, _condition, frequencies_prediction)\n",
    "    prediction = get_mean_from_velocity_field(prediction_field, field_mean, field_std, frequencies_prediction)\n",
    "\n",
    "prediction = prediction.cpu().numpy()\n",
    "image = image.cpu().numpy()\n",
    "_condition = _condition.cpu().numpy()\n",
    "frequencies = frequencies.cpu().numpy()\n",
    "frequencies_prediction = frequencies_prediction.cpu().numpy()\n",
    "vel_mean_sq = vel_mean_sq.cpu().numpy()\n",
    "\n",
    "def unnormalize(x, mean, std):\n",
    "    return x * std + mean\n",
    "\n",
    "condition = unnormalize(_condition, config.mean_conditional_param, config.std_conditional_param)[0]\n",
    "\n",
    "print(f'condition: {condition}')\n",
    "\n",
    "fig, ax = plt.subplots(1, 2, figsize=(7, 2))\n",
    "ax[1].plot(unnormalize(frequencies_prediction[0],150.5, 149.5), prediction[0], label='prediction')\n",
    "ax[1].plot(unnormalize(frequencies[0], 150.5, 149.5), vel_mean_sq[0], label='ground truth')\n",
    "ax[1].legend()\n",
    "ax[0].imshow(image[0, 0][::-1], cmap='gray')\n",
    "ax[0].plot(condition[1] * 181, (1-condition[2]) * 121, 'x', color='red', markersize=10, markeredgewidth=2.5)\n",
    "ax[0].axis('off')\n",
    "sns.despine(offset=5, ax=ax[1])\n",
    "ax[1].grid(which=\"major\", lw=0.2)\n",
    "ax[1].set_yticks([-20, 0, 20, 40, 60])\n",
    "ax[1].set_ylabel('Velocity (dB)')\n",
    "ax[1].set_xticks([0, 100, 200, 300])\n",
    "ax[1].set_xlabel(\"Frequency (Hz)\")\n",
    "fig.suptitle(f'spring bc {condition[0]:.2f}')\n"
   ]
  },
  {
   "cell_type": "markdown",
   "metadata": {},
   "source": [
    "# compute loss on test set"
   ]
  },
  {
   "cell_type": "code",
   "execution_count": null,
   "metadata": {},
   "outputs": [],
   "source": [
    "class args_obj: pass\n",
    "args = args_obj()\n",
    "args.device = 'cuda'\n",
    "results = evaluate(args, config, net, dataloader, logger=None, epoch=None)"
   ]
  }
 ],
 "metadata": {
  "kernelspec": {
   "display_name": "Python 3",
   "language": "python",
   "name": "python3"
  },
  "language_info": {
   "codemirror_mode": {
    "name": "ipython",
    "version": 3
   },
   "file_extension": ".py",
   "mimetype": "text/x-python",
   "name": "python",
   "nbconvert_exporter": "python",
   "pygments_lexer": "ipython3",
   "version": "3.11.6"
  }
 },
 "nbformat": 4,
 "nbformat_minor": 2
}
