{
 "cells": [
  {
   "cell_type": "code",
   "execution_count": null,
   "metadata": {},
   "outputs": [],
   "source": [
    "import h5py\n",
    "import hdf5plugin\n",
    "import matplotlib.pyplot as plt\n",
    "import subprocess\n",
    "import numpy as np\n",
    "from ipywidgets import interact, IntSlider\n",
    "np.set_printoptions(precision=3, suppress=True)\n"
   ]
  },
  {
   "cell_type": "markdown",
   "metadata": {},
   "source": [
    "# Data Visualization\n",
    "\n",
    "This notebook enables the visualization of our dataset. In the next cell, you can either download a .h5 file via gdown or directly specify a path to one of our .h5 files. Please make sure that the packages given in the import statements above are installed. "
   ]
  },
  {
   "cell_type": "code",
   "execution_count": null,
   "metadata": {},
   "outputs": [],
   "source": [
    "%pip install h5py, hdf5plugin, gdown"
   ]
  },
  {
   "cell_type": "code",
   "execution_count": null,
   "metadata": {},
   "outputs": [],
   "source": [
    "path= 'path/to/hdf5file.h5'"
   ]
  },
  {
   "cell_type": "markdown",
   "metadata": {},
   "source": [
    "## Geometries\n",
    "\n",
    "The following plot gives an idea how some of the beading patterns in the dataset look."
   ]
  },
  {
   "cell_type": "code",
   "execution_count": null,
   "metadata": {},
   "outputs": [],
   "source": [
    "with h5py.File(path, 'r') as f:\n",
    "    bead_patterns = f[\"bead_patterns\"][:10]\n",
    "    z_vel_mean_sq = f[\"z_vel_mean_sq\"][:10]\n",
    "    z_abs_velocity = f[\"z_vel_abs\"][:10]\n",
    "    sample_mat = f[\"phy_para\"][:10]\n",
    "    frequencies = f[\"frequencies\"][:10]\n",
    "fig, axs = plt.subplots(3, 3, figsize=(10,7))\n",
    "for i in range(3):\n",
    "    for j in range(3):\n",
    "        axs[i, j].imshow(bead_patterns[i*3+j], cmap='gray')\n",
    "        axs[i, j].axis('off')"
   ]
  },
  {
   "cell_type": "markdown",
   "metadata": {},
   "source": [
    "## Vibration Patterns\n",
    "\n",
    "The following plot is interactive. Rerun the cell to activate the sliders and then move the sliders to look at specific frequencies or instances. Beneath the sliders, the size, thickness and damping loss factor for the specific instance is displayed. For the V5000 dataset, these values are fixed."
   ]
  },
  {
   "cell_type": "code",
   "execution_count": null,
   "metadata": {},
   "outputs": [],
   "source": [
    "y, x = np.mgrid[0:z_abs_velocity[0,0].shape[0], 0:z_abs_velocity[0,0].shape[1]]\n",
    "\n",
    "def plot_frequency(frequency=0, idx=0):\n",
    "    fig, ax = plt.subplots(1, 3, figsize=(20, 5))\n",
    "    beading_pattern = bead_patterns[idx]\n",
    "    field_solution = z_abs_velocity[idx, frequency]\n",
    "    frequency_response = z_vel_mean_sq[idx]\n",
    "    scalar_parameter = sample_mat[idx]\n",
    "    vmin, vmax = np.min(field_solution), np.max(field_solution)\n",
    "    frequency_values = frequencies[idx]\n",
    "\n",
    "    print(\"Order of parameters: rotational stiffness at boundary, x and y position of loading \")\n",
    "    print(scalar_parameter)\n",
    "    ax[0].imshow(beading_pattern[::-1], cmap='gray')\n",
    "    ax[0].set_title(\"Beading pattern\")\n",
    "    ax[0].axis('off')\n",
    "    ax[1].contourf(x, y, field_solution, levels=40, antialiased=True, vmin=vmin, vmax=vmax, cmap=plt.cm.gray)\n",
    "    ax[1].set_title(\"Velocity field\")\n",
    "    ax[1].axis('off')\n",
    "    ax[2].plot(frequency_values, frequency_response)\n",
    "    ax[2].set_title(\"Frequency response\")\n",
    "\n",
    "    # add a vertical line to show the selected frequency\n",
    "    ax[2].axvline(x=frequency_values[frequency], color='red', linestyle='--', label='Selected Frequency')\n",
    "\n",
    "    ax[-1].legend()\n",
    "    plt.tight_layout()\n",
    "    plt.show()\n",
    "    return None\n",
    "\n",
    "\n",
    "frequency_slider = IntSlider(min=0, max=frequencies.shape[1]-1, step=1, continuous_update=False)\n",
    "idx_slider = IntSlider(min=0, max=9, step=1, continuous_update=False)\n",
    "\n",
    "plot = interact(plot_frequency, frequency=frequency_slider, idx=idx_slider)"
   ]
  },
  {
   "cell_type": "code",
   "execution_count": null,
   "metadata": {},
   "outputs": [],
   "source": []
  }
 ],
 "metadata": {
  "kernelspec": {
   "display_name": "Python 3",
   "language": "python",
   "name": "python3"
  },
  "language_info": {
   "codemirror_mode": {
    "name": "ipython",
    "version": 3
   },
   "file_extension": ".py",
   "mimetype": "text/x-python",
   "name": "python",
   "nbconvert_exporter": "python",
   "pygments_lexer": "ipython3",
   "version": "3.11.6"
  }
 },
 "nbformat": 4,
 "nbformat_minor": 2
}
